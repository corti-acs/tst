{
 "cells": [
  {
   "cell_type": "code",
   "execution_count": 1,
   "metadata": {},
   "outputs": [
    {
     "name": "stdout",
     "output_type": "stream",
     "text": [
      "Collecting streamlit\n",
      "  Downloading streamlit-1.2.0-py2.py3-none-any.whl (9.1 MB)\n",
      "\u001b[K     |████████████████████████████████| 9.1 MB 15.8 MB/s eta 0:00:01\n",
      "\u001b[?25hCollecting base58\n",
      "  Downloading base58-2.1.1-py3-none-any.whl (5.6 kB)\n",
      "Requirement already satisfied: attrs in /Users/cortinas/opt/anaconda3/lib/python3.8/site-packages (from streamlit) (20.3.0)\n",
      "Requirement already satisfied: pillow>=6.2.0 in /Users/cortinas/opt/anaconda3/lib/python3.8/site-packages (from streamlit) (8.0.1)\n",
      "Requirement already satisfied: pandas>=0.21.0 in /Users/cortinas/opt/anaconda3/lib/python3.8/site-packages (from streamlit) (1.1.3)\n",
      "Requirement already satisfied: python-dateutil in /Users/cortinas/opt/anaconda3/lib/python3.8/site-packages (from streamlit) (2.8.1)\n",
      "Requirement already satisfied: requests in /Users/cortinas/opt/anaconda3/lib/python3.8/site-packages (from streamlit) (2.24.0)\n",
      "Collecting pyarrow\n",
      "  Downloading pyarrow-6.0.1-cp38-cp38-macosx_10_13_x86_64.whl (19.1 MB)\n",
      "\u001b[K     |████████████████████████████████| 19.1 MB 27.9 MB/s eta 0:00:01\n",
      "\u001b[?25hRequirement already satisfied: toml in /Users/cortinas/opt/anaconda3/lib/python3.8/site-packages (from streamlit) (0.10.1)\n",
      "Requirement already satisfied: click<8.0,>=7.0 in /Users/cortinas/opt/anaconda3/lib/python3.8/site-packages (from streamlit) (7.1.2)\n",
      "Collecting tzlocal\n",
      "  Downloading tzlocal-4.1-py3-none-any.whl (19 kB)\n",
      "Requirement already satisfied: protobuf!=3.11,>=3.6.0 in /Users/cortinas/opt/anaconda3/lib/python3.8/site-packages (from streamlit) (3.17.3)\n",
      "Requirement already satisfied: numpy in /Users/cortinas/opt/anaconda3/lib/python3.8/site-packages (from streamlit) (1.21.4)\n",
      "Requirement already satisfied: cachetools>=4.0 in /Users/cortinas/opt/anaconda3/lib/python3.8/site-packages (from streamlit) (4.2.2)\n",
      "Collecting gitpython!=3.1.19\n",
      "  Downloading GitPython-3.1.24-py3-none-any.whl (180 kB)\n",
      "\u001b[K     |████████████████████████████████| 180 kB 19.4 MB/s eta 0:00:01\n",
      "\u001b[?25hCollecting altair>=3.2.0\n",
      "  Downloading altair-4.1.0-py3-none-any.whl (727 kB)\n",
      "\u001b[K     |████████████████████████████████| 727 kB 21.7 MB/s eta 0:00:01\n",
      "\u001b[?25hCollecting astor\n",
      "  Downloading astor-0.8.1-py2.py3-none-any.whl (27 kB)\n",
      "Collecting blinker\n",
      "  Downloading blinker-1.4.tar.gz (111 kB)\n",
      "\u001b[K     |████████████████████████████████| 111 kB 19.7 MB/s eta 0:00:01\n",
      "\u001b[?25hRequirement already satisfied: packaging in /Users/cortinas/opt/anaconda3/lib/python3.8/site-packages (from streamlit) (20.4)\n",
      "Collecting pydeck>=0.1.dev5\n",
      "  Downloading pydeck-0.7.1-py2.py3-none-any.whl (4.3 MB)\n",
      "\u001b[K     |████████████████████████████████| 4.3 MB 17.5 MB/s eta 0:00:01\n",
      "\u001b[?25hCollecting validators\n",
      "  Downloading validators-0.18.2-py3-none-any.whl (19 kB)\n",
      "Collecting pympler>=0.9\n",
      "  Downloading Pympler-0.9.tar.gz (178 kB)\n",
      "\u001b[K     |████████████████████████████████| 178 kB 15.7 MB/s eta 0:00:01\n",
      "\u001b[?25hRequirement already satisfied: tornado>=5.0 in /Users/cortinas/opt/anaconda3/lib/python3.8/site-packages (from streamlit) (6.0.4)\n",
      "Requirement already satisfied: entrypoints in /Users/cortinas/opt/anaconda3/lib/python3.8/site-packages (from altair>=3.2.0->streamlit) (0.3)\n",
      "Requirement already satisfied: jsonschema in /Users/cortinas/opt/anaconda3/lib/python3.8/site-packages (from altair>=3.2.0->streamlit) (3.2.0)\n",
      "Requirement already satisfied: toolz in /Users/cortinas/opt/anaconda3/lib/python3.8/site-packages (from altair>=3.2.0->streamlit) (0.11.1)\n",
      "Requirement already satisfied: jinja2 in /Users/cortinas/opt/anaconda3/lib/python3.8/site-packages (from altair>=3.2.0->streamlit) (2.11.2)\n",
      "Collecting gitdb<5,>=4.0.1\n",
      "  Downloading gitdb-4.0.9-py3-none-any.whl (63 kB)\n",
      "\u001b[K     |████████████████████████████████| 63 kB 4.5 MB/s  eta 0:00:01\n",
      "\u001b[?25hRequirement already satisfied: typing-extensions>=3.7.4.3 in /Users/cortinas/opt/anaconda3/lib/python3.8/site-packages (from gitpython!=3.1.19->streamlit) (3.7.4.3)\n",
      "Collecting smmap<6,>=3.0.1\n",
      "  Downloading smmap-5.0.0-py3-none-any.whl (24 kB)\n",
      "Requirement already satisfied: pytz>=2017.2 in /Users/cortinas/opt/anaconda3/lib/python3.8/site-packages (from pandas>=0.21.0->streamlit) (2020.1)\n",
      "Requirement already satisfied: six>=1.9 in /Users/cortinas/opt/anaconda3/lib/python3.8/site-packages (from protobuf!=3.11,>=3.6.0->streamlit) (1.15.0)\n",
      "Requirement already satisfied: traitlets>=4.3.2 in /Users/cortinas/opt/anaconda3/lib/python3.8/site-packages (from pydeck>=0.1.dev5->streamlit) (5.0.5)\n",
      "Requirement already satisfied: ipykernel>=5.1.2 in /Users/cortinas/opt/anaconda3/lib/python3.8/site-packages (from pydeck>=0.1.dev5->streamlit) (5.3.4)\n",
      "Requirement already satisfied: ipywidgets>=7.0.0 in /Users/cortinas/opt/anaconda3/lib/python3.8/site-packages (from pydeck>=0.1.dev5->streamlit) (7.5.1)\n",
      "Requirement already satisfied: appnope in /Users/cortinas/opt/anaconda3/lib/python3.8/site-packages (from ipykernel>=5.1.2->pydeck>=0.1.dev5->streamlit) (0.1.0)\n",
      "Requirement already satisfied: ipython>=5.0.0 in /Users/cortinas/opt/anaconda3/lib/python3.8/site-packages (from ipykernel>=5.1.2->pydeck>=0.1.dev5->streamlit) (7.19.0)\n",
      "Requirement already satisfied: jupyter-client in /Users/cortinas/opt/anaconda3/lib/python3.8/site-packages (from ipykernel>=5.1.2->pydeck>=0.1.dev5->streamlit) (6.1.7)\n",
      "Requirement already satisfied: backcall in /Users/cortinas/opt/anaconda3/lib/python3.8/site-packages (from ipython>=5.0.0->ipykernel>=5.1.2->pydeck>=0.1.dev5->streamlit) (0.2.0)\n",
      "Requirement already satisfied: jedi>=0.10 in /Users/cortinas/opt/anaconda3/lib/python3.8/site-packages (from ipython>=5.0.0->ipykernel>=5.1.2->pydeck>=0.1.dev5->streamlit) (0.17.1)\n",
      "Requirement already satisfied: pickleshare in /Users/cortinas/opt/anaconda3/lib/python3.8/site-packages (from ipython>=5.0.0->ipykernel>=5.1.2->pydeck>=0.1.dev5->streamlit) (0.7.5)\n",
      "Requirement already satisfied: prompt-toolkit!=3.0.0,!=3.0.1,<3.1.0,>=2.0.0 in /Users/cortinas/opt/anaconda3/lib/python3.8/site-packages (from ipython>=5.0.0->ipykernel>=5.1.2->pydeck>=0.1.dev5->streamlit) (3.0.8)\n",
      "Requirement already satisfied: pexpect>4.3 in /Users/cortinas/opt/anaconda3/lib/python3.8/site-packages (from ipython>=5.0.0->ipykernel>=5.1.2->pydeck>=0.1.dev5->streamlit) (4.8.0)\n",
      "Requirement already satisfied: pygments in /Users/cortinas/opt/anaconda3/lib/python3.8/site-packages (from ipython>=5.0.0->ipykernel>=5.1.2->pydeck>=0.1.dev5->streamlit) (2.7.2)\n",
      "Requirement already satisfied: decorator in /Users/cortinas/opt/anaconda3/lib/python3.8/site-packages (from ipython>=5.0.0->ipykernel>=5.1.2->pydeck>=0.1.dev5->streamlit) (4.4.2)\n",
      "Requirement already satisfied: setuptools>=18.5 in /Users/cortinas/opt/anaconda3/lib/python3.8/site-packages (from ipython>=5.0.0->ipykernel>=5.1.2->pydeck>=0.1.dev5->streamlit) (50.3.1.post20201107)\n",
      "Requirement already satisfied: widgetsnbextension~=3.5.0 in /Users/cortinas/opt/anaconda3/lib/python3.8/site-packages (from ipywidgets>=7.0.0->pydeck>=0.1.dev5->streamlit) (3.5.1)\n",
      "Requirement already satisfied: nbformat>=4.2.0 in /Users/cortinas/opt/anaconda3/lib/python3.8/site-packages (from ipywidgets>=7.0.0->pydeck>=0.1.dev5->streamlit) (5.0.8)\n",
      "Requirement already satisfied: parso<0.8.0,>=0.7.0 in /Users/cortinas/opt/anaconda3/lib/python3.8/site-packages (from jedi>=0.10->ipython>=5.0.0->ipykernel>=5.1.2->pydeck>=0.1.dev5->streamlit) (0.7.0)\n",
      "Requirement already satisfied: MarkupSafe>=0.23 in /Users/cortinas/opt/anaconda3/lib/python3.8/site-packages (from jinja2->altair>=3.2.0->streamlit) (1.1.1)\n",
      "Requirement already satisfied: ipython-genutils in /Users/cortinas/opt/anaconda3/lib/python3.8/site-packages (from nbformat>=4.2.0->ipywidgets>=7.0.0->pydeck>=0.1.dev5->streamlit) (0.2.0)\n",
      "Requirement already satisfied: jupyter-core in /Users/cortinas/opt/anaconda3/lib/python3.8/site-packages (from nbformat>=4.2.0->ipywidgets>=7.0.0->pydeck>=0.1.dev5->streamlit) (4.6.3)\n",
      "Requirement already satisfied: pyrsistent>=0.14.0 in /Users/cortinas/opt/anaconda3/lib/python3.8/site-packages (from jsonschema->altair>=3.2.0->streamlit) (0.17.3)\n",
      "Requirement already satisfied: ptyprocess>=0.5 in /Users/cortinas/opt/anaconda3/lib/python3.8/site-packages (from pexpect>4.3->ipython>=5.0.0->ipykernel>=5.1.2->pydeck>=0.1.dev5->streamlit) (0.6.0)\n",
      "Requirement already satisfied: wcwidth in /Users/cortinas/opt/anaconda3/lib/python3.8/site-packages (from prompt-toolkit!=3.0.0,!=3.0.1,<3.1.0,>=2.0.0->ipython>=5.0.0->ipykernel>=5.1.2->pydeck>=0.1.dev5->streamlit) (0.2.5)\n"
     ]
    },
    {
     "name": "stdout",
     "output_type": "stream",
     "text": [
      "Requirement already satisfied: notebook>=4.4.1 in /Users/cortinas/opt/anaconda3/lib/python3.8/site-packages (from widgetsnbextension~=3.5.0->ipywidgets>=7.0.0->pydeck>=0.1.dev5->streamlit) (6.1.4)\n",
      "Requirement already satisfied: terminado>=0.8.3 in /Users/cortinas/opt/anaconda3/lib/python3.8/site-packages (from notebook>=4.4.1->widgetsnbextension~=3.5.0->ipywidgets>=7.0.0->pydeck>=0.1.dev5->streamlit) (0.9.1)\n",
      "Requirement already satisfied: pyzmq>=17 in /Users/cortinas/opt/anaconda3/lib/python3.8/site-packages (from notebook>=4.4.1->widgetsnbextension~=3.5.0->ipywidgets>=7.0.0->pydeck>=0.1.dev5->streamlit) (19.0.2)\n",
      "Requirement already satisfied: Send2Trash in /Users/cortinas/opt/anaconda3/lib/python3.8/site-packages (from notebook>=4.4.1->widgetsnbextension~=3.5.0->ipywidgets>=7.0.0->pydeck>=0.1.dev5->streamlit) (1.5.0)\n",
      "Requirement already satisfied: prometheus-client in /Users/cortinas/opt/anaconda3/lib/python3.8/site-packages (from notebook>=4.4.1->widgetsnbextension~=3.5.0->ipywidgets>=7.0.0->pydeck>=0.1.dev5->streamlit) (0.8.0)\n",
      "Requirement already satisfied: nbconvert in /Users/cortinas/opt/anaconda3/lib/python3.8/site-packages (from notebook>=4.4.1->widgetsnbextension~=3.5.0->ipywidgets>=7.0.0->pydeck>=0.1.dev5->streamlit) (6.0.7)\n",
      "Requirement already satisfied: argon2-cffi in /Users/cortinas/opt/anaconda3/lib/python3.8/site-packages (from notebook>=4.4.1->widgetsnbextension~=3.5.0->ipywidgets>=7.0.0->pydeck>=0.1.dev5->streamlit) (20.1.0)\n",
      "Requirement already satisfied: cffi>=1.0.0 in /Users/cortinas/opt/anaconda3/lib/python3.8/site-packages (from argon2-cffi->notebook>=4.4.1->widgetsnbextension~=3.5.0->ipywidgets>=7.0.0->pydeck>=0.1.dev5->streamlit) (1.14.3)\n",
      "Requirement already satisfied: pycparser in /Users/cortinas/opt/anaconda3/lib/python3.8/site-packages (from cffi>=1.0.0->argon2-cffi->notebook>=4.4.1->widgetsnbextension~=3.5.0->ipywidgets>=7.0.0->pydeck>=0.1.dev5->streamlit) (2.20)\n",
      "Requirement already satisfied: nbclient<0.6.0,>=0.5.0 in /Users/cortinas/opt/anaconda3/lib/python3.8/site-packages (from nbconvert->notebook>=4.4.1->widgetsnbextension~=3.5.0->ipywidgets>=7.0.0->pydeck>=0.1.dev5->streamlit) (0.5.1)\n",
      "Requirement already satisfied: defusedxml in /Users/cortinas/opt/anaconda3/lib/python3.8/site-packages (from nbconvert->notebook>=4.4.1->widgetsnbextension~=3.5.0->ipywidgets>=7.0.0->pydeck>=0.1.dev5->streamlit) (0.6.0)\n",
      "Requirement already satisfied: testpath in /Users/cortinas/opt/anaconda3/lib/python3.8/site-packages (from nbconvert->notebook>=4.4.1->widgetsnbextension~=3.5.0->ipywidgets>=7.0.0->pydeck>=0.1.dev5->streamlit) (0.4.4)\n",
      "Requirement already satisfied: pandocfilters>=1.4.1 in /Users/cortinas/opt/anaconda3/lib/python3.8/site-packages (from nbconvert->notebook>=4.4.1->widgetsnbextension~=3.5.0->ipywidgets>=7.0.0->pydeck>=0.1.dev5->streamlit) (1.4.3)\n",
      "Requirement already satisfied: jupyterlab-pygments in /Users/cortinas/opt/anaconda3/lib/python3.8/site-packages (from nbconvert->notebook>=4.4.1->widgetsnbextension~=3.5.0->ipywidgets>=7.0.0->pydeck>=0.1.dev5->streamlit) (0.1.2)\n",
      "Requirement already satisfied: bleach in /Users/cortinas/opt/anaconda3/lib/python3.8/site-packages (from nbconvert->notebook>=4.4.1->widgetsnbextension~=3.5.0->ipywidgets>=7.0.0->pydeck>=0.1.dev5->streamlit) (3.2.1)\n",
      "Requirement already satisfied: mistune<2,>=0.8.1 in /Users/cortinas/opt/anaconda3/lib/python3.8/site-packages (from nbconvert->notebook>=4.4.1->widgetsnbextension~=3.5.0->ipywidgets>=7.0.0->pydeck>=0.1.dev5->streamlit) (0.8.4)\n",
      "Requirement already satisfied: async-generator in /Users/cortinas/opt/anaconda3/lib/python3.8/site-packages (from nbclient<0.6.0,>=0.5.0->nbconvert->notebook>=4.4.1->widgetsnbextension~=3.5.0->ipywidgets>=7.0.0->pydeck>=0.1.dev5->streamlit) (1.10)\n",
      "Requirement already satisfied: nest-asyncio in /Users/cortinas/opt/anaconda3/lib/python3.8/site-packages (from nbclient<0.6.0,>=0.5.0->nbconvert->notebook>=4.4.1->widgetsnbextension~=3.5.0->ipywidgets>=7.0.0->pydeck>=0.1.dev5->streamlit) (1.4.2)\n",
      "Requirement already satisfied: webencodings in /Users/cortinas/opt/anaconda3/lib/python3.8/site-packages (from bleach->nbconvert->notebook>=4.4.1->widgetsnbextension~=3.5.0->ipywidgets>=7.0.0->pydeck>=0.1.dev5->streamlit) (0.5.1)\n",
      "Requirement already satisfied: pyparsing>=2.0.2 in /Users/cortinas/opt/anaconda3/lib/python3.8/site-packages (from packaging->streamlit) (2.4.7)\n",
      "Requirement already satisfied: idna<3,>=2.5 in /Users/cortinas/opt/anaconda3/lib/python3.8/site-packages (from requests->streamlit) (2.10)\n",
      "Requirement already satisfied: urllib3!=1.25.0,!=1.25.1,<1.26,>=1.21.1 in /Users/cortinas/opt/anaconda3/lib/python3.8/site-packages (from requests->streamlit) (1.25.11)\n",
      "Requirement already satisfied: certifi>=2017.4.17 in /Users/cortinas/opt/anaconda3/lib/python3.8/site-packages (from requests->streamlit) (2020.6.20)\n",
      "Requirement already satisfied: chardet<4,>=3.0.2 in /Users/cortinas/opt/anaconda3/lib/python3.8/site-packages (from requests->streamlit) (3.0.4)\n",
      "Collecting backports.zoneinfo\n",
      "  Downloading backports.zoneinfo-0.2.1-cp38-cp38-macosx_10_14_x86_64.whl (35 kB)\n",
      "Collecting pytz-deprecation-shim\n",
      "  Downloading pytz_deprecation_shim-0.1.0.post0-py2.py3-none-any.whl (15 kB)\n",
      "Collecting tzdata\n",
      "  Downloading tzdata-2021.5-py2.py3-none-any.whl (339 kB)\n",
      "\u001b[K     |████████████████████████████████| 339 kB 16.5 MB/s eta 0:00:01\n",
      "\u001b[?25hBuilding wheels for collected packages: pympler, blinker\n",
      "  Building wheel for pympler (setup.py) ... \u001b[?25ldone\n",
      "\u001b[?25h  Created wheel for pympler: filename=Pympler-0.9-py3-none-any.whl size=164803 sha256=b764c57ec078f5a2f21cfb7d02b15e343815b3bab6281f7896cc2325f799272f\n",
      "  Stored in directory: /Users/cortinas/Library/Caches/pip/wheels/24/6f/0b/da9f81234859a8741aaea3afcc6ae2daf0efb67e7ff2d3686c\n",
      "  Building wheel for blinker (setup.py) ... \u001b[?25ldone\n",
      "\u001b[?25h  Created wheel for blinker: filename=blinker-1.4-py3-none-any.whl size=13452 sha256=e6a8fbc266535dd362927d2d0e616fc082ce2ac7a2306a5d663ad468d11955ea\n",
      "  Stored in directory: /Users/cortinas/Library/Caches/pip/wheels/b7/a5/68/fe632054a5eadd531c7a49d740c50eb6adfbeca822b4eab8d4\n",
      "Successfully built pympler blinker\n",
      "Installing collected packages: tzdata, smmap, backports.zoneinfo, pytz-deprecation-shim, gitdb, validators, tzlocal, pympler, pydeck, pyarrow, gitpython, blinker, base58, astor, altair, streamlit\n",
      "Successfully installed altair-4.1.0 astor-0.8.1 backports.zoneinfo-0.2.1 base58-2.1.1 blinker-1.4 gitdb-4.0.9 gitpython-3.1.24 pyarrow-6.0.1 pydeck-0.7.1 pympler-0.9 pytz-deprecation-shim-0.1.0.post0 smmap-5.0.0 streamlit-1.2.0 tzdata-2021.5 tzlocal-4.1 validators-0.18.2\n",
      "\u001b[33mWARNING: You are using pip version 21.1.3; however, version 21.3.1 is available.\n",
      "You should consider upgrading via the '/Users/cortinas/opt/anaconda3/bin/python -m pip install --upgrade pip' command.\u001b[0m\n",
      "Note: you may need to restart the kernel to use updated packages.\n"
     ]
    }
   ],
   "source": [
    "pip install streamlit"
   ]
  },
  {
   "cell_type": "code",
   "execution_count": 2,
   "metadata": {},
   "outputs": [
    {
     "name": "stderr",
     "output_type": "stream",
     "text": [
      "2021-12-10 18:29:36.913 \n",
      "  \u001b[33m\u001b[1mWarning:\u001b[0m to view this Streamlit app on a browser, run it with the following\n",
      "  command:\n",
      "\n",
      "    streamlit run /Users/cortinas/opt/anaconda3/lib/python3.8/site-packages/ipykernel_launcher.py [ARGUMENTS]\n"
     ]
    },
    {
     "data": {
      "text/plain": [
       "DeltaGenerator(_root_container=0, _provided_cursor=None, _parent=None, _block_type=None, _form_data=None)"
      ]
     },
     "execution_count": 2,
     "metadata": {},
     "output_type": "execute_result"
    },
    {
     "data": {
      "image/png": "[encoded data removed]",
      "text/plain": [
       "<Figure size 432x288 with 1 Axes>"
      ]
     },
     "metadata": {
      "needs_background": "light"
     },
     "output_type": "display_data"
    }
   ],
   "source": [
    "\n",
    "   \n",
    "import streamlit as st   \n",
    "import numpy as np   \n",
    "import matplotlib.pyplot as plt \n",
    "\n",
    " \n",
    "\n",
    "perc_heads = st.number_input(label='Chance of Coins Landing on Heads', min_value=0.0,   max_value=1.0, value=.5)  \n",
    "graph_title = st.text_input(label='Graph Title') \n",
    "binom_dist = np.random.binomial(1, perc_heads, 1000)  \n",
    "list_of_means = []  \n",
    "for i in range(0, 1000):  \n",
    "    list_of_means.append(np.random.choice(binom_dist, 100, replace=True).mean())  \n",
    "\n",
    "  \n",
    "\n",
    "fig, ax = plt.subplots()  \n",
    "plt.hist(list_of_means, range=[0,1]) \n",
    "plt.title(graph_title) \n",
    "st.pyplot(fig) "
   ]
  },
  {
   "cell_type": "code",
   "execution_count": 4,
   "metadata": {},
   "outputs": [
    {
     "ename": "SyntaxError",
     "evalue": "invalid syntax (<ipython-input-4-81f672c4a4dc>, line 1)",
     "output_type": "error",
     "traceback": [
      "\u001b[0;36m  File \u001b[0;32m\"<ipython-input-4-81f672c4a4dc>\"\u001b[0;36m, line \u001b[0;32m1\u001b[0m\n\u001b[0;31m    Users/cortinas/opt/anaconda3/lib/python3.8/site-packages/ipykernel_launcher.py()\u001b[0m\n\u001b[0m                                            ^\u001b[0m\n\u001b[0;31mSyntaxError\u001b[0m\u001b[0;31m:\u001b[0m invalid syntax\n"
     ]
    }
   ],
   "source": [
    "/Users/cortinas/opt/anaconda3/lib/python3.8/site-packages/ipykernel_launcher.py\n"
   ]
  },
  {
   "cell_type": "code",
   "execution_count": null,
   "metadata": {},
   "outputs": [],
   "source": []
  }
 ],
 "metadata": {
  "kernelspec": {
   "display_name": "Python 3",
   "language": "python",
   "name": "python3"
  },
  "language_info": {
   "codemirror_mode": {
    "name": "ipython",
    "version": 3
   },
   "file_extension": ".py",
   "mimetype": "text/x-python",
   "name": "python",
   "nbconvert_exporter": "python",
   "pygments_lexer": "ipython3",
   "version": "3.8.5"
  }
 },
 "nbformat": 4,
 "nbformat_minor": 4
}
